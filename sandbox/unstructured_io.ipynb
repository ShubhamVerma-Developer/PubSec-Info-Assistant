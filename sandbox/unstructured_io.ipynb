{
 "cells": [
  {
   "cell_type": "code",
   "execution_count": null,
   "metadata": {},
   "outputs": [],
   "source": [
    "import os\n",
    "import pandas as pd\n",
    "import json\n",
    "from unstructured.partition.auto import partition\n",
    "from unstructured.partition.pdf import partition_pdf\n",
    "from unstructured.partition.doc import partition_doc\n",
    "from unstructured.partition.docx import partition_docx\n",
    "from unstructured.partition.html import partition_html\n",
    "from unstructured.staging.base import elements_to_json\n",
    "from unstructured.partition.pptx import partition_pptx\n",
    "from unstructured.partition.msg import partition_msg\n",
    "from unstructured.partition.image import partition_image\n",
    "\n",
    "current_dir = '/workspaces/PubSec-Info-Assistant/sandbox'\n",
    "output_dir = '/workspaces/PubSec-Info-Assistant/sandbox/output'\n",
    "\n",
    "strategy = \"hi_res\" # Strategy for analyzing PDFs and extracting table structure\n",
    "model_name = \"yolox\" # yolox - best model for table extraction. Other options are detectron2_onnx and chipper depending on file layout\n",
    "languages = \"eng\" # https://tesseract-ocr.github.io/tessdoc/Data-Files-in-different-versions.html. Common items: eng / ara"
   ]
  },
  {
   "cell_type": "code",
   "execution_count": null,
   "metadata": {},
   "outputs": [],
   "source": [
    "def process_elements(input_filename):\n",
    "    # Read the JSON file\n",
    "    with open(input_filename, 'r') as file:\n",
    "        data = json.load(file)\n",
    "    print(input_filename)\n",
    "                \n",
    "    prefix = '''<!DOCTYPE html>\n",
    "            <html>\n",
    "            <head>\n",
    "            <style>\n",
    "            table {\n",
    "                border-collapse: collapse;\n",
    "                border: 1px solid black;\n",
    "            }\n",
    "\n",
    "            th, td {\n",
    "                border: 1px solid black;\n",
    "                padding: 8px;\n",
    "                text-align: left;\n",
    "            }\n",
    "            </style><BR<BR>'''   \n",
    "    \n",
    "    # Iterate over the JSON data and extract required table elements\n",
    "    extracted_elements = []\n",
    "    for index, entry in enumerate(data): \n",
    "        if index == 0:\n",
    "            extracted_elements.append(prefix)        \n",
    "            \n",
    "        if entry[\"type\"] == \"Table\":\n",
    "            extracted_elements.append(entry[\"metadata\"][\"text_as_html\"])\n",
    "        elif entry[\"type\"] == \"Title\":\n",
    "            extracted_elements.append('<h1>'+entry[\"text\"]+'</h1>')\n",
    "        elif entry[\"type\"] == \"UncategorizedText\" or entry[\"type\"] == \"NarrativeText\":\n",
    "            extracted_elements.append('<p>'+entry[\"text\"]+'</p>')\n",
    "        elif entry[\"type\"] == \"FigureCaption\":\n",
    "            extracted_elements.append('<p>FigureCaption - '+entry[\"text\"]+'</p>')    \n",
    "        else:\n",
    "            extracted_elements.append(f'<p>************* {entry[\"type\"]} - '+entry[\"text\"]+'</p>') \n",
    "               \n",
    "    # Write the extracted elements to the output file\n",
    "    with open(input_filename+\".html\", 'w') as output_file:\n",
    "        for element in extracted_elements:\n",
    "            output_file.write(element   + \"<BR><BR>\\n\")  # Adding two newlines for separation   "
   ]
  },
  {
   "cell_type": "code",
   "execution_count": null,
   "metadata": {},
   "outputs": [],
   "source": [
    "# *******\n",
    "# PDF\n",
    "# *******\n",
    "\n",
    "file_pdf_1 = 'pdf/msft-10k_20190630.htm.pdf'\n",
    "file_pdf_2 = 'example-docs/layout-parser-paper-fast.pdf'\n",
    "file_pdf_3 = 'example-docs/multi-column.pdf'\n",
    "file_pdf_5 = 'nvidia/Q2FY24-CFO-Commentary.pdf'\n",
    "file_pdf_6 = 'pdf/Benefit_Options.pdf'\n",
    "file_pdf_7 = 'pdf/arabic_1.pdf'\n",
    "\n",
    "filename = file_pdf_6\n",
    "# file_path = os.path.join(current_dir, filename)\n",
    "\n",
    "elements = partition_pdf(\n",
    "    filename=filename, \n",
    "    strategy=strategy, \n",
    "    infer_table_structure=True, \n",
    "    model_name=model_name,      # comment this line out to use default model\n",
    "    ocr_languages=languages\n",
    ")"
   ]
  },
  {
   "cell_type": "code",
   "execution_count": null,
   "metadata": {},
   "outputs": [],
   "source": [
    "# *******\n",
    "# HTML\n",
    "# *******\n",
    "file_html_1 = 'html/111.html'\n",
    "file_html_2 = 'html/sample.html'\n",
    "\n",
    "filename = file_html_1\n",
    "# file_path = os.path.join(current_dir, filename)\n",
    "elements = partition_html(\n",
    "    filename=filename\n",
    ")\n",
    "print('done')\n"
   ]
  },
  {
   "cell_type": "code",
   "execution_count": 54,
   "metadata": {},
   "outputs": [
    {
     "name": "stdout",
     "output_type": "stream",
     "text": [
      "done\n"
     ]
    }
   ],
   "source": [
    "# *******\n",
    "# PowerPoint\n",
    "# *******\n",
    "file_pptx_1 = 'powerpoint/IA_deck.pptx'\n",
    "\n",
    "filename = file_pptx_1\n",
    "# file_path = os.path.join(current_dir, filename)\n",
    "elements = partition_pptx(\n",
    "    filename=filename\n",
    ")\n",
    "print('done')"
   ]
  },
  {
   "cell_type": "code",
   "execution_count": null,
   "metadata": {},
   "outputs": [],
   "source": [
    "# *******\n",
    "# eml\n",
    "# *******\n",
    "# from unstructured.partition.msg import partition_msg\n",
    "#from unstructured.partition.email import partition_email\n",
    "\n",
    "\n",
    "file_msg_3 = 'email/email-replace-mime-encodings-error-4.eml'\n",
    "\n",
    "filename = file_msg_3\n",
    "elements = partition_email(filename=filename)\n",
    "print('done')\n",
    "\n"
   ]
  },
  {
   "cell_type": "code",
   "execution_count": null,
   "metadata": {},
   "outputs": [],
   "source": [
    "# *******\n",
    "# auto\n",
    "# *******\n",
    "from unstructured.partition.msg import partition_msg\n",
    "\n",
    "file_msg_1 = 'email/Build_hero.msg'\n",
    "file_msg_2 = 'email/Test email - disregard.msg'\n",
    "file_msg_3 = 'email/fake-email.msg'\n",
    "\n",
    "filename = file_msg_2\n",
    "elements = partition(filename=filename)\n",
    "print('done')\n",
    "print(elements)\n"
   ]
  },
  {
   "cell_type": "code",
   "execution_count": null,
   "metadata": {},
   "outputs": [],
   "source": [
    "# *******\n",
    "# msg\n",
    "# *******\n",
    "from unstructured.partition.msg import partition_msg\n",
    "\n",
    "file_msg_1 = 'email/Build_hero.msg'\n",
    "file_msg_2 = 'email/Test email - disregard.msg'\n",
    "file_msg_3 = 'email/fake-email.msg'\n",
    "\n",
    "\n",
    "filename = file_msg_2\n",
    "elements = partition_msg(filename=filename)\n",
    "print('done')\n"
   ]
  },
  {
   "cell_type": "code",
   "execution_count": null,
   "metadata": {},
   "outputs": [],
   "source": [
    "# *******\n",
    "# Images\n",
    "# *******\n",
    "file_image_1 = 'image/street.jpeg'\n",
    "file_image_2 = 'image/example.jpg'\n",
    "file_image_3 = 'image/layout-parser-paper-fast.jpg'\n",
    "\n",
    "filename = file_image_3\n",
    "elements = partition_image(\n",
    "    filename=filename\n",
    ")\n",
    "print('done')"
   ]
  },
  {
   "cell_type": "code",
   "execution_count": null,
   "metadata": {},
   "outputs": [],
   "source": [
    "# *******\n",
    "# Docx\n",
    "# *******\n",
    "file_docx_1 = 'docs/war-and-peace.docx'\n",
    "\n",
    "\n",
    "filename = file_docx_1\n",
    "elements = partition_docx(\n",
    "    filename=filename\n",
    ")\n",
    "print('done')"
   ]
  },
  {
   "cell_type": "code",
   "execution_count": 55,
   "metadata": {},
   "outputs": [
    {
     "name": "stdout",
     "output_type": "stream",
     "text": [
      "/workspaces/PubSec-Info-Assistant/sandbox/output/IA_deck.pptx.json\n",
      "done\n"
     ]
    }
   ],
   "source": [
    "\n",
    "file_path = os.path.join(current_dir, filename)\n",
    "directory, file_component = os.path.split(file_path)\n",
    "output_path = os.path.join(output_dir, file_component)\n",
    "\n",
    "elements_to_json(elements, filename=f\"{output_path}.json\") \n",
    "process_elements(f\"{output_dir}/{file_component}.json\")\n",
    "print('done')\n"
   ]
  },
  {
   "cell_type": "code",
   "execution_count": null,
   "metadata": {},
   "outputs": [],
   "source": [
    "# Convert elements to a DataFrame\n",
    "data = []\n",
    "for element in elements:\n",
    "    data.append((element, element.category))\n",
    "df = pd.DataFrame(data, columns=['text', 'category']) \n",
    "\n",
    "# Get unique values in the 'category' column\n",
    "unique_categories = df['category'].unique()\n",
    "\n",
    "print(\"Unique categories:\")\n",
    "for category in unique_categories:\n",
    "    print(category)\n",
    "print(\"\")\n"
   ]
  },
  {
   "cell_type": "code",
   "execution_count": null,
   "metadata": {},
   "outputs": [],
   "source": []
  },
  {
   "cell_type": "code",
   "execution_count": null,
   "metadata": {},
   "outputs": [],
   "source": []
  },
  {
   "cell_type": "code",
   "execution_count": null,
   "metadata": {},
   "outputs": [],
   "source": []
  },
  {
   "cell_type": "code",
   "execution_count": null,
   "metadata": {},
   "outputs": [],
   "source": []
  },
  {
   "cell_type": "code",
   "execution_count": null,
   "metadata": {},
   "outputs": [],
   "source": []
  },
  {
   "cell_type": "code",
   "execution_count": null,
   "metadata": {},
   "outputs": [],
   "source": []
  },
  {
   "cell_type": "code",
   "execution_count": null,
   "metadata": {},
   "outputs": [],
   "source": []
  },
  {
   "cell_type": "code",
   "execution_count": null,
   "metadata": {},
   "outputs": [],
   "source": []
  },
  {
   "cell_type": "code",
   "execution_count": null,
   "metadata": {},
   "outputs": [],
   "source": [
    "# Convert elements to a DataFrame\n",
    "data = []\n",
    "for element in elements:\n",
    "    data.append((element.category, element.metadata.page_number, element.metadata.section, element))\n",
    "df = pd.DataFrame(data, columns=[ 'category', 'page_number', 'section', 'text']) "
   ]
  },
  {
   "cell_type": "code",
   "execution_count": null,
   "metadata": {},
   "outputs": [],
   "source": [
    "# Get unique values in the 'category' column\n",
    "unique_categories = df['category'].unique()\n",
    "\n",
    "print(\"Unique categories:\")\n",
    "for category in unique_categories:\n",
    "    print(category)"
   ]
  },
  {
   "cell_type": "code",
   "execution_count": null,
   "metadata": {},
   "outputs": [],
   "source": [
    "query = \"category == 'Table'\"  # Modify this condition as needed\n",
    "reduced_df = df.query(query)\n",
    "\n",
    "# Print the reduced DataFrame in full\n",
    "with pd.option_context('display.max_rows', None, 'display.max_columns', None):\n",
    "    print(reduced_df)"
   ]
  },
  {
   "cell_type": "code",
   "execution_count": null,
   "metadata": {},
   "outputs": [],
   "source": [
    "# Save the  DataFrame as a CSV file\n",
    "csv_filename = 'dataframe.csv'\n",
    "csv_path = os.path.join(current_dir, csv_filename)\n",
    "df.to_csv(csv_path, index=False)"
   ]
  }
 ],
 "metadata": {
  "kernelspec": {
   "display_name": "Python 3",
   "language": "python",
   "name": "python3"
  },
  "language_info": {
   "codemirror_mode": {
    "name": "ipython",
    "version": 3
   },
   "file_extension": ".py",
   "mimetype": "text/x-python",
   "name": "python",
   "nbconvert_exporter": "python",
   "pygments_lexer": "ipython3",
   "version": "3.10.9"
  },
  "orig_nbformat": 4
 },
 "nbformat": 4,
 "nbformat_minor": 2
}
