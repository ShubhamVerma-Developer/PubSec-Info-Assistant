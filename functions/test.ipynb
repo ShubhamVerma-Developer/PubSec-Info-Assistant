{
 "cells": [
  {
   "cell_type": "code",
   "execution_count": null,
   "metadata": {},
   "outputs": [],
   "source": [
    "\n",
    "import json\n",
    "from azure.storage.queue import QueueClient\n"
   ]
  },
  {
   "cell_type": "code",
   "execution_count": null,
   "metadata": {},
   "outputs": [],
   "source": [
    "#s send a regular json message\n",
    "message = {\n",
    "  \"blob_name\": \"zztop\",\n",
    "  \"queued_count\": 1\n",
    "}        \n",
    "json_string = json.dumps(message)\n",
    "queue_client = QueueClient.from_connection_string(BLOB_CONNECTION_STRING, PDF_POLLING_QUEUE)   \n",
    "queue_client.send_message(json_string)"
   ]
  },
  {
   "cell_type": "code",
   "execution_count": null,
   "metadata": {},
   "outputs": [],
   "source": [
    "# try sending just a simple non json string\n",
    "message = \"hello world\"\n",
    "queue_client = QueueClient.from_connection_string(BLOB_CONNECTION_STRING, PDF_POLLING_QUEUE)   \n",
    "queue_client.send_message(json_string)"
   ]
  },
  {
   "cell_type": "code",
   "execution_count": null,
   "metadata": {},
   "outputs": [],
   "source": [
    "# try encoding the message\n",
    "\n",
    "import base64\n",
    "encoded_string = base64.b64encode(json_string.encode(\"ascii\")).decode(\"ascii\")\n",
    "print(encoded_string)\n",
    "queue_client.send_message(message)\n"
   ]
  },
  {
   "cell_type": "code",
   "execution_count": null,
   "metadata": {},
   "outputs": [],
   "source": [
    "# Peek at the first message\n",
    "messages = queue_client.peek_messages()\n",
    "\n",
    "for peeked_message in messages:\n",
    "    print(\"Peeked message: \" + peeked_message.content)"
   ]
  },
  {
   "cell_type": "code",
   "execution_count": null,
   "metadata": {},
   "outputs": [],
   "source": [
    "messages = queue_client.receive_messages()\n",
    "\n",
    "for message in messages:\n",
    "    print(\"Dequeueing message: \" + message.content)\n",
    "    queue_client.delete_message(message.id, message.pop_receipt)"
   ]
  }
 ],
 "metadata": {
  "kernelspec": {
   "display_name": "Python 3",
   "language": "python",
   "name": "python3"
  },
  "language_info": {
   "codemirror_mode": {
    "name": "ipython",
    "version": 3
   },
   "file_extension": ".py",
   "mimetype": "text/x-python",
   "name": "python",
   "nbconvert_exporter": "python",
   "pygments_lexer": "ipython3",
   "version": "3.10.9"
  },
  "orig_nbformat": 4
 },
 "nbformat": 4,
 "nbformat_minor": 2
}
